{
  "nbformat": 4,
  "nbformat_minor": 0,
  "metadata": {
    "colab": {
      "provenance": []
    },
    "kernelspec": {
      "name": "python3",
      "display_name": "Python 3"
    },
    "language_info": {
      "name": "python"
    }
  },
  "cells": [
    {
      "cell_type": "markdown",
      "source": [
        "# Data Science Tools and Ecosystem"
      ],
      "metadata": {
        "id": "Hrc9KxRmJDLl"
      }
    },
    {
      "cell_type": "markdown",
      "source": [
        "## Auther\n",
        "Ali Alabdrabulrasul"
      ],
      "metadata": {
        "id": "XyUIO7S_M6bp"
      }
    },
    {
      "cell_type": "markdown",
      "source": [
        "In this notebook, Data Science Tools and Ecosystem are summarized.\n",
        "\n"
      ],
      "metadata": {
        "id": "N-4lvHdJJS9I"
      }
    },
    {
      "cell_type": "markdown",
      "source": [
        "**Objectives:**\n",
        "- List popular languages for Data Science\n",
        "- Learning about JupyerNotebook\n",
        "- Learning R Language\n",
        "- Learning about Github\n",
        "- Version Control"
      ],
      "metadata": {
        "id": "3fN_LHt_Mgm_"
      }
    },
    {
      "cell_type": "markdown",
      "source": [
        "Some of the popular languages that Data Scientists use are:\n",
        "1. Python\n",
        "2. R\n",
        "3. SQL"
      ],
      "metadata": {
        "id": "4BJvXiboJgLN"
      }
    },
    {
      "cell_type": "markdown",
      "source": [
        "Some of the commonly used libraries used by Data Scientists include:\n",
        "- Scikit-learn\n",
        "- TensorFlow\n",
        "- PyTorch"
      ],
      "metadata": {
        "id": "CuiJoY-OKFwR"
      }
    },
    {
      "cell_type": "markdown",
      "source": [
        "| Data Science Tools |\n",
        "|--------------------|\n",
        "| Jupyter Notebook   |\n",
        "| RStudio            |\n",
        "| Apache Zeppelin    |"
      ],
      "metadata": {
        "id": "_iHw-OC9Ked3"
      }
    },
    {
      "cell_type": "markdown",
      "source": [
        "### Below are a few examples of evaluating arithmetic expressions in Python.\n",
        "\n"
      ],
      "metadata": {
        "id": "jdSEM2EiKzZc"
      }
    },
    {
      "cell_type": "code",
      "source": [
        "# this a simple arithmetic expression to mutiply then add integers\n",
        "(3*4)+5"
      ],
      "metadata": {
        "colab": {
          "base_uri": "https://localhost:8080/"
        },
        "id": "__3oQUv3JEy_",
        "outputId": "ec0805ea-84a5-4b4d-a5a5-10fef97d2879"
      },
      "execution_count": 5,
      "outputs": [
        {
          "output_type": "execute_result",
          "data": {
            "text/plain": [
              "17"
            ]
          },
          "metadata": {},
          "execution_count": 5
        }
      ]
    },
    {
      "cell_type": "code",
      "source": [
        "# This will convert 200 minutes to hours by diving by 60\n",
        "minutes = 200\n",
        "hours = minutes / 60\n",
        "hours"
      ],
      "metadata": {
        "colab": {
          "base_uri": "https://localhost:8080/"
        },
        "id": "nSiuJqdkKdP5",
        "outputId": "7c88f0e0-adfa-4f36-caff-6b556c472ba8"
      },
      "execution_count": 6,
      "outputs": [
        {
          "output_type": "execute_result",
          "data": {
            "text/plain": [
              "3.3333333333333335"
            ]
          },
          "metadata": {},
          "execution_count": 6
        }
      ]
    },
    {
      "cell_type": "markdown",
      "source": [],
      "metadata": {
        "id": "8I9L3-eQMZr9"
      }
    },
    {
      "cell_type": "code",
      "source": [],
      "metadata": {
        "id": "sCLLUDYAMNaO"
      },
      "execution_count": null,
      "outputs": []
    }
  ]
}